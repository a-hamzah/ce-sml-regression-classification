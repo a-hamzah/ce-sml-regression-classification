{
 "cells": [
  {
   "attachments": {},
   "cell_type": "markdown",
   "metadata": {},
   "source": [
    "# C1_W1_Lab02_Model_Representation_Soln"
   ]
  },
  {
   "cell_type": "code",
   "execution_count": null,
   "metadata": {},
   "outputs": [],
   "source": [
    "import numpy as np\n",
    "import matplotlib.pyplot as plt"
   ]
  },
  {
   "cell_type": "code",
   "execution_count": null,
   "metadata": {},
   "outputs": [],
   "source": [
    "# x_train is the input variable (size in 1000 square feet)\n",
    "# y_train is the target (price in 1000s of dollars)\n",
    "x_train = np.array([1.0, 2.0, 3.0])\n",
    "y_train = np.array([300.0, 500.0])\n",
    "print(f\"x_train = {x_train}\")\n",
    "print(f\"y_train = {y_train}\")\n",
    "print(x_train.shape)\n",
    "print(y_train.shape)"
   ]
  },
  {
   "cell_type": "code",
   "execution_count": null,
   "metadata": {},
   "outputs": [],
   "source": [
    "# m is the number of training examples\n",
    "print(f\"x_train.shape: {x_train.shape}\")\n",
    "m = x_train.shape[0]\n",
    "print(f\"Number of training examples is: {m}\")\n",
    "\n",
    "# hArray = np.array([[1.0, 1.0],[3.0, 1.0], [9.0, 7.0]])\n",
    "hArray1 = np.array([[[1, 2],[2, 4],[3, 6], [9, 1]], [[1, 2],[2, 4],[3, 6], [9, 1]], [[1, 2],[2, 4],[3, 6], [9, 1]]])\n",
    "hArray2 = np.array([[[1, 2],[2, 4],[3, 6], [9, 1]], [[1, 2],[2, 4],[3, 6], [9, 1]], [[1, 2],[2, 4],[3, 6], [9, 1]]])\n",
    "size_h1 = hArray1.shape\n",
    "\n",
    "size_h2 = hArray2.shape\n",
    "print(f\"Size of hArray1 = {size_h1}\")\n",
    "print(f\"Size of hArray2 = {size_h2}\")\n",
    "product = hArray1 * hArray2\n",
    "print(product)"
   ]
  },
  {
   "cell_type": "code",
   "execution_count": null,
   "metadata": {},
   "outputs": [],
   "source": [
    "plt.scatter(x_train, y_train, marker='x', c='g')\n",
    "plt.title('Housing Graph')\n",
    "plt.ylabel('Prices (x1000)')\n",
    "plt.xlabel('Size (Sq. Feet)')\n",
    "plt.show()"
   ]
  },
  {
   "cell_type": "code",
   "execution_count": null,
   "metadata": {},
   "outputs": [],
   "source": [
    "# extra block, not included in the exercise\n",
    "x_ter = np.array([3.0, 4.0, 5.0, 6.0, 7.0]) # shoe size\n",
    "y_ter = np.array([160.0, 185.0, 205.0, 215.0, 250.0]) #prices of shoe\n",
    "training_examples = x_ter.shape[0]\n",
    "print(f\"Training Examples = {training_examples}\")\n",
    "# printing all training examples\n",
    "for i in range(4):\n",
    "    \n",
    "    print(f\"Training Set {i} = {x_ter[i],y_ter[i]}\")\n"
   ]
  },
  {
   "cell_type": "code",
   "execution_count": null,
   "metadata": {},
   "outputs": [],
   "source": [
    "w = 200\n",
    "b = 100"
   ]
  },
  {
   "cell_type": "code",
   "execution_count": null,
   "metadata": {},
   "outputs": [],
   "source": [
    "def compute_model_output(x, w, b):\n",
    "    num = x.shape[0]\n",
    "    f_wb = np.zeros(num)\n",
    "    for i in range(num):\n",
    "        f_wb[i] = w * x[i] + b\n",
    "    \n",
    "    return f_wb\n",
    "\n"
   ]
  },
  {
   "cell_type": "code",
   "execution_count": null,
   "metadata": {},
   "outputs": [],
   "source": [
    "temp = compute_model_output(x_train, w, b)\n",
    "plt.plot(x_train, temp, c = 'b', label = 'Our Prediction')\n",
    "plt.scatter(x_train, y_train, marker='x', c='r',label='Actual Values')"
   ]
  }
 ],
 "metadata": {
  "kernelspec": {
   "display_name": "Python 3",
   "language": "python",
   "name": "python3"
  },
  "language_info": {
   "codemirror_mode": {
    "name": "ipython",
    "version": 3
   },
   "file_extension": ".py",
   "mimetype": "text/x-python",
   "name": "python",
   "nbconvert_exporter": "python",
   "pygments_lexer": "ipython3",
   "version": "3.10.11"
  },
  "orig_nbformat": 4
 },
 "nbformat": 4,
 "nbformat_minor": 2
}
